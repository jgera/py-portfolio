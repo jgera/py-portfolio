{
 "cells": [
  {
   "cell_type": "markdown",
   "metadata": {},
   "source": [
    "# Python Based Basic Portfolio class/liberary with history"
   ]
  },
  {
   "cell_type": "code",
   "execution_count": 24,
   "metadata": {},
   "outputs": [],
   "source": [
    "class Portfolio:\n",
    "    balance = 0.0\n",
    "    Holdings = {}    \n",
    "    History = {}\n",
    "    \n",
    "    def __init__(self,balance = 0.0):\n",
    "        self.balance = balance\n",
    "    \n",
    "    def buy(self,key,date,cost,qty):\n",
    "        if key not in  self.Holdings:\n",
    "            self.Holdings[key] = qty\n",
    "            items  = []\n",
    "            items.append((key,date,qty,cost))\n",
    "            self.History[key] = items            \n",
    "        else:\n",
    "            self.Holdings[key] = self.Holdings[key] + qty\n",
    "            items = self.History[key];\n",
    "            items.append((key,date,qty,cost))\n",
    "            self.History[key] = items\n",
    "        # Update balance for both cases\n",
    "        self.balance = self.balance - (cost * qty)            \n",
    "            \n",
    "            \n",
    "    def sell(self,key,date,cost,qty):\n",
    "        if key not in  self.Holdings:\n",
    "            print('can\\'t sell: security is not in portfolio')\n",
    "            return\n",
    "        elif(self.Holdings[key] < qty):\n",
    "            print('can\\'t sell: More than what you have')\n",
    "            return\n",
    "        else:\n",
    "            self.Holdings[key] = self.Holdings[key] - qty\n",
    "            items = self.History[key];\n",
    "            items.append((key,date,-qty,cost))\n",
    "            self.History[key] = items\n",
    "        # Update balance for both cases\n",
    "        self.balance = self.balance + (cost * qty)            \n",
    "                      \n",
    "    \n",
    "    def PrintHoldings(self):\n",
    "        for key,val in self.Holdings.items():\n",
    "            print(key + \"\\t\" + str(val)) \n",
    "            \n",
    "    def TradeHistory(self):\n",
    "        for key,val in self.History.items():\n",
    "            print(key + \"\\t\" + str(val)) \n",
    "            \n",
    "    def Summary(self):\n",
    "        print('Trade Balance is {}'.format(self.balance))\n",
    "        print(\"Total Securities in Holding {}\".format(len(self.Holdings)))            "
   ]
  },
  {
   "cell_type": "code",
   "execution_count": 32,
   "metadata": {},
   "outputs": [],
   "source": [
    "p = Portfolio(1000)"
   ]
  },
  {
   "cell_type": "code",
   "execution_count": 36,
   "metadata": {},
   "outputs": [],
   "source": [
    "p.buy('ITC','27-10-2019',100,1)"
   ]
  },
  {
   "cell_type": "code",
   "execution_count": 37,
   "metadata": {},
   "outputs": [],
   "source": [
    "p.sell('ITC','27-10-2019',102,1)"
   ]
  },
  {
   "cell_type": "code",
   "execution_count": 10,
   "metadata": {},
   "outputs": [
    {
     "name": "stdout",
     "output_type": "stream",
     "text": [
      "ITC\t5\n"
     ]
    }
   ],
   "source": [
    "p.PrintHoldings()"
   ]
  },
  {
   "cell_type": "code",
   "execution_count": 22,
   "metadata": {},
   "outputs": [
    {
     "name": "stdout",
     "output_type": "stream",
     "text": [
      "ITC\t[('ITC', '27-10-2019', 3, 114)]\n"
     ]
    }
   ],
   "source": [
    "p.TradeHistory()"
   ]
  },
  {
   "cell_type": "code",
   "execution_count": 38,
   "metadata": {},
   "outputs": [
    {
     "name": "stdout",
     "output_type": "stream",
     "text": [
      "Trade Balance is 1004\n",
      "Total Securities in Holding 2\n"
     ]
    }
   ],
   "source": [
    "p.Summary()"
   ]
  },
  {
   "cell_type": "code",
   "execution_count": null,
   "metadata": {},
   "outputs": [],
   "source": []
  }
 ],
 "metadata": {
  "kernelspec": {
   "display_name": "Python 3",
   "language": "python",
   "name": "python3"
  },
  "language_info": {
   "codemirror_mode": {
    "name": "ipython",
    "version": 3
   },
   "file_extension": ".py",
   "mimetype": "text/x-python",
   "name": "python",
   "nbconvert_exporter": "python",
   "pygments_lexer": "ipython3",
   "version": "3.7.1"
  }
 },
 "nbformat": 4,
 "nbformat_minor": 2
}
