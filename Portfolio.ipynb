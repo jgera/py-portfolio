{
 "cells": [
  {
   "cell_type": "markdown",
   "metadata": {},
   "source": [
    "# Python Based Basic Portfolio class/liberary with history"
   ]
  },
  {
   "cell_type": "code",
   "execution_count": 1,
   "metadata": {},
   "outputs": [],
   "source": [
    "class Portfolio:\n",
    "    Holdings = {}    \n",
    "    History = {}\n",
    "    def buy(self,key,date,cost,qty):\n",
    "        if key not in  self.Holdings:\n",
    "            self.Holdings[key] = qty\n",
    "            items  = []\n",
    "            items.append((key,date,qty,cost))\n",
    "            self.History[key] = items\n",
    "        else:\n",
    "            self.Holdings[key] = self.Holdings[key] + qty\n",
    "            items = self.History[key];\n",
    "            items.append((key,date,qty,cost))\n",
    "            self.History[key] = items\n",
    "            \n",
    "    def sell(self,key,date,cost,qty):\n",
    "        if key not in  self.Holdings:\n",
    "            print('can\\'t sell: security is not in portfolio')\n",
    "            return\n",
    "        elif(self.Holdings[key] < qty):\n",
    "            print('can\\'t sell: More than what you have')\n",
    "            return\n",
    "        else:\n",
    "            self.Holdings[key] = self.Holdings[key] - qty\n",
    "            items = self.History[key];\n",
    "            items.append((key,date,-qty,cost))\n",
    "            self.History[key] = items\n",
    "                      \n",
    "    \n",
    "    def PrintHoldings(self):\n",
    "        print \"Total Securities in Holding {}\".format(len(self.Holdings))\n",
    "        for key,val in self.Holdings.items():\n",
    "            print key + \"\\t\" + str(val) \n",
    "            \n",
    "    def TradeHistory(self):\n",
    "        for key,val in self.History.items():\n",
    "            print key + \"\\t\" + str(val) \n",
    "            "
   ]
  },
  {
   "cell_type": "code",
   "execution_count": 2,
   "metadata": {},
   "outputs": [],
   "source": [
    "p = Portfolio()"
   ]
  },
  {
   "cell_type": "code",
   "execution_count": 10,
   "metadata": {},
   "outputs": [],
   "source": [
    "p.buy('ITC','27-10-2019',114,3)"
   ]
  },
  {
   "cell_type": "code",
   "execution_count": 14,
   "metadata": {},
   "outputs": [],
   "source": [
    "p.sell('ITC','27-10-2019',114,1)"
   ]
  },
  {
   "cell_type": "code",
   "execution_count": 15,
   "metadata": {},
   "outputs": [
    {
     "name": "stdout",
     "output_type": "stream",
     "text": [
      "Total Securities in Holding 1\n",
      "ITC\t5\n"
     ]
    }
   ],
   "source": [
    "p.PrintHoldings()"
   ]
  },
  {
   "cell_type": "code",
   "execution_count": 9,
   "metadata": {},
   "outputs": [
    {
     "name": "stdout",
     "output_type": "stream",
     "text": [
      "ITC\t[('ITC', '27-10-2019', 3, 114), ('ITC', '27-10-2019', -1, 114), ('ITC', '27-10-2019', 3, 114), ('ITC', '27-10-2019', -1, 114)]\n"
     ]
    }
   ],
   "source": [
    "p.TradeHistory()"
   ]
  },
  {
   "cell_type": "code",
   "execution_count": null,
   "metadata": {},
   "outputs": [],
   "source": []
  }
 ],
 "metadata": {
  "kernelspec": {
   "display_name": "Python 2",
   "language": "python",
   "name": "python2"
  },
  "language_info": {
   "codemirror_mode": {
    "name": "ipython",
    "version": 2
   },
   "file_extension": ".py",
   "mimetype": "text/x-python",
   "name": "python",
   "nbconvert_exporter": "python",
   "pygments_lexer": "ipython2",
   "version": "2.7.9"
  }
 },
 "nbformat": 4,
 "nbformat_minor": 2
}
